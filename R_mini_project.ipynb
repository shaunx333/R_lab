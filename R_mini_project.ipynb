{
 "cells": [
  {
   "cell_type": "code",
   "execution_count": 8,
   "id": "a2200a5f",
   "metadata": {},
   "outputs": [],
   "source": [
    "# Build a recommendation engine that recommends movies to users.\n",
    "# Item Based Collaborative Filter recommendation system\n",
    "library(recommenderlab)\n",
    "library(ggplot2)                       \n",
    "library(data.table)\n",
    "library(reshape2)"
   ]
  },
  {
   "cell_type": "code",
   "execution_count": 9,
   "id": "b2bff9d7",
   "metadata": {},
   "outputs": [
    {
     "name": "stdout",
     "output_type": "stream",
     "text": [
      "'data.frame':\t10329 obs. of  3 variables:\n",
      " $ movieId: int  1 2 3 4 5 6 7 8 9 10 ...\n",
      " $ title  : chr  \"Toy Story (1995)\" \"Jumanji (1995)\" \"Grumpier Old Men (1995)\" \"Waiting to Exhale (1995)\" ...\n",
      " $ genres : chr  \"Adventure|Animation|Children|Comedy|Fantasy\" \"Adventure|Children|Fantasy\" \"Comedy|Romance\" \"Comedy|Drama|Romance\" ...\n"
     ]
    }
   ],
   "source": [
    "# Retrieve and display data\n",
    "movie_data <- read.csv(\"movies.csv\",stringsAsFactors=FALSE)\n",
    "rating_data <- read.csv(\"ratings.csv\")\n",
    "str(movie_data)"
   ]
  },
  {
   "cell_type": "code",
   "execution_count": 10,
   "id": "24e466ad",
   "metadata": {},
   "outputs": [
    {
     "data": {
      "text/plain": [
       "    movieId          title              genres         \n",
       " Min.   :     1   Length:10329       Length:10329      \n",
       " 1st Qu.:  3240   Class :character   Class :character  \n",
       " Median :  7088   Mode  :character   Mode  :character  \n",
       " Mean   : 31924                                        \n",
       " 3rd Qu.: 59900                                        \n",
       " Max.   :149532                                        "
      ]
     },
     "metadata": {},
     "output_type": "display_data"
    },
    {
     "data": {
      "text/html": [
       "<table class=\"dataframe\">\n",
       "<caption>A data.frame: 6 × 3</caption>\n",
       "<thead>\n",
       "\t<tr><th></th><th scope=col>movieId</th><th scope=col>title</th><th scope=col>genres</th></tr>\n",
       "\t<tr><th></th><th scope=col>&lt;int&gt;</th><th scope=col>&lt;chr&gt;</th><th scope=col>&lt;chr&gt;</th></tr>\n",
       "</thead>\n",
       "<tbody>\n",
       "\t<tr><th scope=row>1</th><td>1</td><td>Toy Story (1995)                  </td><td>Adventure|Animation|Children|Comedy|Fantasy</td></tr>\n",
       "\t<tr><th scope=row>2</th><td>2</td><td>Jumanji (1995)                    </td><td>Adventure|Children|Fantasy                 </td></tr>\n",
       "\t<tr><th scope=row>3</th><td>3</td><td>Grumpier Old Men (1995)           </td><td>Comedy|Romance                             </td></tr>\n",
       "\t<tr><th scope=row>4</th><td>4</td><td>Waiting to Exhale (1995)          </td><td>Comedy|Drama|Romance                       </td></tr>\n",
       "\t<tr><th scope=row>5</th><td>5</td><td>Father of the Bride Part II (1995)</td><td>Comedy                                     </td></tr>\n",
       "\t<tr><th scope=row>6</th><td>6</td><td>Heat (1995)                       </td><td>Action|Crime|Thriller                      </td></tr>\n",
       "</tbody>\n",
       "</table>\n"
      ],
      "text/latex": [
       "A data.frame: 6 × 3\n",
       "\\begin{tabular}{r|lll}\n",
       "  & movieId & title & genres\\\\\n",
       "  & <int> & <chr> & <chr>\\\\\n",
       "\\hline\n",
       "\t1 & 1 & Toy Story (1995)                   & Adventure\\textbar{}Animation\\textbar{}Children\\textbar{}Comedy\\textbar{}Fantasy\\\\\n",
       "\t2 & 2 & Jumanji (1995)                     & Adventure\\textbar{}Children\\textbar{}Fantasy                 \\\\\n",
       "\t3 & 3 & Grumpier Old Men (1995)            & Comedy\\textbar{}Romance                             \\\\\n",
       "\t4 & 4 & Waiting to Exhale (1995)           & Comedy\\textbar{}Drama\\textbar{}Romance                       \\\\\n",
       "\t5 & 5 & Father of the Bride Part II (1995) & Comedy                                     \\\\\n",
       "\t6 & 6 & Heat (1995)                        & Action\\textbar{}Crime\\textbar{}Thriller                      \\\\\n",
       "\\end{tabular}\n"
      ],
      "text/markdown": [
       "\n",
       "A data.frame: 6 × 3\n",
       "\n",
       "| <!--/--> | movieId &lt;int&gt; | title &lt;chr&gt; | genres &lt;chr&gt; |\n",
       "|---|---|---|---|\n",
       "| 1 | 1 | Toy Story (1995)                   | Adventure|Animation|Children|Comedy|Fantasy |\n",
       "| 2 | 2 | Jumanji (1995)                     | Adventure|Children|Fantasy                  |\n",
       "| 3 | 3 | Grumpier Old Men (1995)            | Comedy|Romance                              |\n",
       "| 4 | 4 | Waiting to Exhale (1995)           | Comedy|Drama|Romance                        |\n",
       "| 5 | 5 | Father of the Bride Part II (1995) | Comedy                                      |\n",
       "| 6 | 6 | Heat (1995)                        | Action|Crime|Thriller                       |\n",
       "\n"
      ],
      "text/plain": [
       "  movieId title                             \n",
       "1 1       Toy Story (1995)                  \n",
       "2 2       Jumanji (1995)                    \n",
       "3 3       Grumpier Old Men (1995)           \n",
       "4 4       Waiting to Exhale (1995)          \n",
       "5 5       Father of the Bride Part II (1995)\n",
       "6 6       Heat (1995)                       \n",
       "  genres                                     \n",
       "1 Adventure|Animation|Children|Comedy|Fantasy\n",
       "2 Adventure|Children|Fantasy                 \n",
       "3 Comedy|Romance                             \n",
       "4 Comedy|Drama|Romance                       \n",
       "5 Comedy                                     \n",
       "6 Action|Crime|Thriller                      "
      ]
     },
     "metadata": {},
     "output_type": "display_data"
    },
    {
     "data": {
      "text/plain": [
       "     userId         movieId           rating        timestamp        \n",
       " Min.   :  1.0   Min.   :     1   Min.   :0.500   Min.   :8.286e+08  \n",
       " 1st Qu.:192.0   1st Qu.:  1073   1st Qu.:3.000   1st Qu.:9.711e+08  \n",
       " Median :383.0   Median :  2497   Median :3.500   Median :1.115e+09  \n",
       " Mean   :364.9   Mean   : 13381   Mean   :3.517   Mean   :1.130e+09  \n",
       " 3rd Qu.:557.0   3rd Qu.:  5991   3rd Qu.:4.000   3rd Qu.:1.275e+09  \n",
       " Max.   :668.0   Max.   :149532   Max.   :5.000   Max.   :1.452e+09  "
      ]
     },
     "metadata": {},
     "output_type": "display_data"
    },
    {
     "data": {
      "text/html": [
       "<table class=\"dataframe\">\n",
       "<caption>A data.frame: 6 × 4</caption>\n",
       "<thead>\n",
       "\t<tr><th></th><th scope=col>userId</th><th scope=col>movieId</th><th scope=col>rating</th><th scope=col>timestamp</th></tr>\n",
       "\t<tr><th></th><th scope=col>&lt;int&gt;</th><th scope=col>&lt;int&gt;</th><th scope=col>&lt;dbl&gt;</th><th scope=col>&lt;int&gt;</th></tr>\n",
       "</thead>\n",
       "<tbody>\n",
       "\t<tr><th scope=row>1</th><td>1</td><td> 16</td><td>4.0</td><td>1217897793</td></tr>\n",
       "\t<tr><th scope=row>2</th><td>1</td><td> 24</td><td>1.5</td><td>1217895807</td></tr>\n",
       "\t<tr><th scope=row>3</th><td>1</td><td> 32</td><td>4.0</td><td>1217896246</td></tr>\n",
       "\t<tr><th scope=row>4</th><td>1</td><td> 47</td><td>4.0</td><td>1217896556</td></tr>\n",
       "\t<tr><th scope=row>5</th><td>1</td><td> 50</td><td>4.0</td><td>1217896523</td></tr>\n",
       "\t<tr><th scope=row>6</th><td>1</td><td>110</td><td>4.0</td><td>1217896150</td></tr>\n",
       "</tbody>\n",
       "</table>\n"
      ],
      "text/latex": [
       "A data.frame: 6 × 4\n",
       "\\begin{tabular}{r|llll}\n",
       "  & userId & movieId & rating & timestamp\\\\\n",
       "  & <int> & <int> & <dbl> & <int>\\\\\n",
       "\\hline\n",
       "\t1 & 1 &  16 & 4.0 & 1217897793\\\\\n",
       "\t2 & 1 &  24 & 1.5 & 1217895807\\\\\n",
       "\t3 & 1 &  32 & 4.0 & 1217896246\\\\\n",
       "\t4 & 1 &  47 & 4.0 & 1217896556\\\\\n",
       "\t5 & 1 &  50 & 4.0 & 1217896523\\\\\n",
       "\t6 & 1 & 110 & 4.0 & 1217896150\\\\\n",
       "\\end{tabular}\n"
      ],
      "text/markdown": [
       "\n",
       "A data.frame: 6 × 4\n",
       "\n",
       "| <!--/--> | userId &lt;int&gt; | movieId &lt;int&gt; | rating &lt;dbl&gt; | timestamp &lt;int&gt; |\n",
       "|---|---|---|---|---|\n",
       "| 1 | 1 |  16 | 4.0 | 1217897793 |\n",
       "| 2 | 1 |  24 | 1.5 | 1217895807 |\n",
       "| 3 | 1 |  32 | 4.0 | 1217896246 |\n",
       "| 4 | 1 |  47 | 4.0 | 1217896556 |\n",
       "| 5 | 1 |  50 | 4.0 | 1217896523 |\n",
       "| 6 | 1 | 110 | 4.0 | 1217896150 |\n",
       "\n"
      ],
      "text/plain": [
       "  userId movieId rating timestamp \n",
       "1 1       16     4.0    1217897793\n",
       "2 1       24     1.5    1217895807\n",
       "3 1       32     4.0    1217896246\n",
       "4 1       47     4.0    1217896556\n",
       "5 1       50     4.0    1217896523\n",
       "6 1      110     4.0    1217896150"
      ]
     },
     "metadata": {},
     "output_type": "display_data"
    }
   ],
   "source": [
    "# Overview the summary \n",
    "summary(movie_data)\n",
    "head(movie_data)\n",
    "summary(rating_data)\n",
    "head(rating_data)"
   ]
  },
  {
   "cell_type": "code",
   "execution_count": 11,
   "id": "fc4001e5",
   "metadata": {},
   "outputs": [
    {
     "name": "stdout",
     "output_type": "stream",
     "text": [
      "'data.frame':\t10329 obs. of  18 variables:\n",
      " $ Action     : int  0 0 0 0 0 1 0 0 1 1 ...\n",
      " $ Adventure  : int  1 1 0 0 0 0 0 1 0 1 ...\n",
      " $ Animation  : int  1 0 0 0 0 0 0 0 0 0 ...\n",
      " $ Children   : int  1 1 0 0 0 0 0 1 0 0 ...\n",
      " $ Comedy     : int  1 0 1 1 1 0 1 0 0 0 ...\n",
      " $ Crime      : int  0 0 0 0 0 1 0 0 0 0 ...\n",
      " $ Documentary: int  0 0 0 0 0 0 0 0 0 0 ...\n",
      " $ Drama      : int  0 0 0 1 0 0 0 0 0 0 ...\n",
      " $ Fantasy    : int  1 1 0 0 0 0 0 0 0 0 ...\n",
      " $ Film-Noir  : int  0 0 0 0 0 0 0 0 0 0 ...\n",
      " $ Horror     : int  0 0 0 0 0 0 0 0 0 0 ...\n",
      " $ Musical    : int  0 0 0 0 0 0 0 0 0 0 ...\n",
      " $ Mystery    : int  0 0 0 0 0 0 0 0 0 0 ...\n",
      " $ Romance    : int  0 0 1 1 0 0 1 0 0 0 ...\n",
      " $ Sci-Fi     : int  0 0 0 0 0 0 0 0 0 0 ...\n",
      " $ Thriller   : int  0 0 0 0 0 1 0 0 0 1 ...\n",
      " $ War        : int  0 0 0 0 0 0 0 0 0 0 ...\n",
      " $ Western    : int  0 0 0 0 0 0 0 0 0 0 ...\n"
     ]
    }
   ],
   "source": [
    "# Data pre-processing\n",
    "# Creating a one-hot encoding to create a matrix that comprises of corresponding genres for each of the films.\n",
    "movie_genre <- as.data.frame(movie_data$genres, stringsAsFactors=FALSE)\n",
    "library(data.table)\n",
    "movie_genre2 <- as.data.frame(tstrsplit(movie_genre[,1], '[|]', \n",
    "                                        type.convert=TRUE), \n",
    "                              stringsAsFactors=FALSE) \n",
    "colnames(movie_genre2) <- c(1:10)\n",
    "list_genre <- c(\"Action\", \"Adventure\", \"Animation\", \"Children\", \n",
    "                \"Comedy\", \"Crime\",\"Documentary\", \"Drama\", \"Fantasy\",\n",
    "                \"Film-Noir\", \"Horror\", \"Musical\", \"Mystery\",\"Romance\",\n",
    "                \"Sci-Fi\", \"Thriller\", \"War\", \"Western\")\n",
    "genre_mat1 <- matrix(0,10330,18)\n",
    "genre_mat1[1,] <- list_genre\n",
    "colnames(genre_mat1) <- list_genre\n",
    "for (index in 1:nrow(movie_genre2)) {\n",
    "  for (col in 1:ncol(movie_genre2)) {\n",
    "    gen_col = which(genre_mat1[1,] == movie_genre2[index,col]) \n",
    "    genre_mat1[index+1,gen_col] <- 1\n",
    "  }\n",
    "}\n",
    "genre_mat2 <- as.data.frame(genre_mat1[-1,], stringsAsFactors=FALSE) #remove first row, which was the genre list\n",
    "for (col in 1:ncol(genre_mat2)) {\n",
    "  genre_mat2[,col] <- as.integer(genre_mat2[,col]) #convert from characters to integers\n",
    "} \n",
    "str(genre_mat2)"
   ]
  },
  {
   "cell_type": "code",
   "execution_count": 12,
   "id": "7819a983",
   "metadata": {},
   "outputs": [
    {
     "data": {
      "text/html": [
       "<table class=\"dataframe\">\n",
       "<caption>A data.frame: 6 × 20</caption>\n",
       "<thead>\n",
       "\t<tr><th></th><th scope=col>movieId</th><th scope=col>title</th><th scope=col>Action</th><th scope=col>Adventure</th><th scope=col>Animation</th><th scope=col>Children</th><th scope=col>Comedy</th><th scope=col>Crime</th><th scope=col>Documentary</th><th scope=col>Drama</th><th scope=col>Fantasy</th><th scope=col>Film-Noir</th><th scope=col>Horror</th><th scope=col>Musical</th><th scope=col>Mystery</th><th scope=col>Romance</th><th scope=col>Sci-Fi</th><th scope=col>Thriller</th><th scope=col>War</th><th scope=col>Western</th></tr>\n",
       "\t<tr><th></th><th scope=col>&lt;int&gt;</th><th scope=col>&lt;chr&gt;</th><th scope=col>&lt;int&gt;</th><th scope=col>&lt;int&gt;</th><th scope=col>&lt;int&gt;</th><th scope=col>&lt;int&gt;</th><th scope=col>&lt;int&gt;</th><th scope=col>&lt;int&gt;</th><th scope=col>&lt;int&gt;</th><th scope=col>&lt;int&gt;</th><th scope=col>&lt;int&gt;</th><th scope=col>&lt;int&gt;</th><th scope=col>&lt;int&gt;</th><th scope=col>&lt;int&gt;</th><th scope=col>&lt;int&gt;</th><th scope=col>&lt;int&gt;</th><th scope=col>&lt;int&gt;</th><th scope=col>&lt;int&gt;</th><th scope=col>&lt;int&gt;</th><th scope=col>&lt;int&gt;</th></tr>\n",
       "</thead>\n",
       "<tbody>\n",
       "\t<tr><th scope=row>1</th><td>1</td><td>Toy Story (1995)                  </td><td>0</td><td>1</td><td>1</td><td>1</td><td>1</td><td>0</td><td>0</td><td>0</td><td>1</td><td>0</td><td>0</td><td>0</td><td>0</td><td>0</td><td>0</td><td>0</td><td>0</td><td>0</td></tr>\n",
       "\t<tr><th scope=row>2</th><td>2</td><td>Jumanji (1995)                    </td><td>0</td><td>1</td><td>0</td><td>1</td><td>0</td><td>0</td><td>0</td><td>0</td><td>1</td><td>0</td><td>0</td><td>0</td><td>0</td><td>0</td><td>0</td><td>0</td><td>0</td><td>0</td></tr>\n",
       "\t<tr><th scope=row>3</th><td>3</td><td>Grumpier Old Men (1995)           </td><td>0</td><td>0</td><td>0</td><td>0</td><td>1</td><td>0</td><td>0</td><td>0</td><td>0</td><td>0</td><td>0</td><td>0</td><td>0</td><td>1</td><td>0</td><td>0</td><td>0</td><td>0</td></tr>\n",
       "\t<tr><th scope=row>4</th><td>4</td><td>Waiting to Exhale (1995)          </td><td>0</td><td>0</td><td>0</td><td>0</td><td>1</td><td>0</td><td>0</td><td>1</td><td>0</td><td>0</td><td>0</td><td>0</td><td>0</td><td>1</td><td>0</td><td>0</td><td>0</td><td>0</td></tr>\n",
       "\t<tr><th scope=row>5</th><td>5</td><td>Father of the Bride Part II (1995)</td><td>0</td><td>0</td><td>0</td><td>0</td><td>1</td><td>0</td><td>0</td><td>0</td><td>0</td><td>0</td><td>0</td><td>0</td><td>0</td><td>0</td><td>0</td><td>0</td><td>0</td><td>0</td></tr>\n",
       "\t<tr><th scope=row>6</th><td>6</td><td>Heat (1995)                       </td><td>1</td><td>0</td><td>0</td><td>0</td><td>0</td><td>1</td><td>0</td><td>0</td><td>0</td><td>0</td><td>0</td><td>0</td><td>0</td><td>0</td><td>0</td><td>1</td><td>0</td><td>0</td></tr>\n",
       "</tbody>\n",
       "</table>\n"
      ],
      "text/latex": [
       "A data.frame: 6 × 20\n",
       "\\begin{tabular}{r|llllllllllllllllllll}\n",
       "  & movieId & title & Action & Adventure & Animation & Children & Comedy & Crime & Documentary & Drama & Fantasy & Film-Noir & Horror & Musical & Mystery & Romance & Sci-Fi & Thriller & War & Western\\\\\n",
       "  & <int> & <chr> & <int> & <int> & <int> & <int> & <int> & <int> & <int> & <int> & <int> & <int> & <int> & <int> & <int> & <int> & <int> & <int> & <int> & <int>\\\\\n",
       "\\hline\n",
       "\t1 & 1 & Toy Story (1995)                   & 0 & 1 & 1 & 1 & 1 & 0 & 0 & 0 & 1 & 0 & 0 & 0 & 0 & 0 & 0 & 0 & 0 & 0\\\\\n",
       "\t2 & 2 & Jumanji (1995)                     & 0 & 1 & 0 & 1 & 0 & 0 & 0 & 0 & 1 & 0 & 0 & 0 & 0 & 0 & 0 & 0 & 0 & 0\\\\\n",
       "\t3 & 3 & Grumpier Old Men (1995)            & 0 & 0 & 0 & 0 & 1 & 0 & 0 & 0 & 0 & 0 & 0 & 0 & 0 & 1 & 0 & 0 & 0 & 0\\\\\n",
       "\t4 & 4 & Waiting to Exhale (1995)           & 0 & 0 & 0 & 0 & 1 & 0 & 0 & 1 & 0 & 0 & 0 & 0 & 0 & 1 & 0 & 0 & 0 & 0\\\\\n",
       "\t5 & 5 & Father of the Bride Part II (1995) & 0 & 0 & 0 & 0 & 1 & 0 & 0 & 0 & 0 & 0 & 0 & 0 & 0 & 0 & 0 & 0 & 0 & 0\\\\\n",
       "\t6 & 6 & Heat (1995)                        & 1 & 0 & 0 & 0 & 0 & 1 & 0 & 0 & 0 & 0 & 0 & 0 & 0 & 0 & 0 & 1 & 0 & 0\\\\\n",
       "\\end{tabular}\n"
      ],
      "text/markdown": [
       "\n",
       "A data.frame: 6 × 20\n",
       "\n",
       "| <!--/--> | movieId &lt;int&gt; | title &lt;chr&gt; | Action &lt;int&gt; | Adventure &lt;int&gt; | Animation &lt;int&gt; | Children &lt;int&gt; | Comedy &lt;int&gt; | Crime &lt;int&gt; | Documentary &lt;int&gt; | Drama &lt;int&gt; | Fantasy &lt;int&gt; | Film-Noir &lt;int&gt; | Horror &lt;int&gt; | Musical &lt;int&gt; | Mystery &lt;int&gt; | Romance &lt;int&gt; | Sci-Fi &lt;int&gt; | Thriller &lt;int&gt; | War &lt;int&gt; | Western &lt;int&gt; |\n",
       "|---|---|---|---|---|---|---|---|---|---|---|---|---|---|---|---|---|---|---|---|---|\n",
       "| 1 | 1 | Toy Story (1995)                   | 0 | 1 | 1 | 1 | 1 | 0 | 0 | 0 | 1 | 0 | 0 | 0 | 0 | 0 | 0 | 0 | 0 | 0 |\n",
       "| 2 | 2 | Jumanji (1995)                     | 0 | 1 | 0 | 1 | 0 | 0 | 0 | 0 | 1 | 0 | 0 | 0 | 0 | 0 | 0 | 0 | 0 | 0 |\n",
       "| 3 | 3 | Grumpier Old Men (1995)            | 0 | 0 | 0 | 0 | 1 | 0 | 0 | 0 | 0 | 0 | 0 | 0 | 0 | 1 | 0 | 0 | 0 | 0 |\n",
       "| 4 | 4 | Waiting to Exhale (1995)           | 0 | 0 | 0 | 0 | 1 | 0 | 0 | 1 | 0 | 0 | 0 | 0 | 0 | 1 | 0 | 0 | 0 | 0 |\n",
       "| 5 | 5 | Father of the Bride Part II (1995) | 0 | 0 | 0 | 0 | 1 | 0 | 0 | 0 | 0 | 0 | 0 | 0 | 0 | 0 | 0 | 0 | 0 | 0 |\n",
       "| 6 | 6 | Heat (1995)                        | 1 | 0 | 0 | 0 | 0 | 1 | 0 | 0 | 0 | 0 | 0 | 0 | 0 | 0 | 0 | 1 | 0 | 0 |\n",
       "\n"
      ],
      "text/plain": [
       "  movieId title                              Action Adventure Animation\n",
       "1 1       Toy Story (1995)                   0      1         1        \n",
       "2 2       Jumanji (1995)                     0      1         0        \n",
       "3 3       Grumpier Old Men (1995)            0      0         0        \n",
       "4 4       Waiting to Exhale (1995)           0      0         0        \n",
       "5 5       Father of the Bride Part II (1995) 0      0         0        \n",
       "6 6       Heat (1995)                        1      0         0        \n",
       "  Children Comedy Crime Documentary Drama Fantasy Film-Noir Horror Musical\n",
       "1 1        1      0     0           0     1       0         0      0      \n",
       "2 1        0      0     0           0     1       0         0      0      \n",
       "3 0        1      0     0           0     0       0         0      0      \n",
       "4 0        1      0     0           1     0       0         0      0      \n",
       "5 0        1      0     0           0     0       0         0      0      \n",
       "6 0        0      1     0           0     0       0         0      0      \n",
       "  Mystery Romance Sci-Fi Thriller War Western\n",
       "1 0       0       0      0        0   0      \n",
       "2 0       0       0      0        0   0      \n",
       "3 0       1       0      0        0   0      \n",
       "4 0       1       0      0        0   0      \n",
       "5 0       0       0      0        0   0      \n",
       "6 0       0       0      1        0   0      "
      ]
     },
     "metadata": {},
     "output_type": "display_data"
    }
   ],
   "source": [
    "# Creating a ‘search matrix’ - searching films by specifying the genre\n",
    "SearchMatrix <- cbind(movie_data[,1:2], genre_mat2[])\n",
    "head(SearchMatrix)\n",
    "ratingMatrix <- dcast(rating_data, userId~movieId, value.var = \"rating\", na.rm=FALSE)\n",
    "ratingMatrix <- as.matrix(ratingMatrix[,-1]) #remove userIds"
   ]
  },
  {
   "cell_type": "code",
   "execution_count": 13,
   "id": "299d60da",
   "metadata": {},
   "outputs": [
    {
     "data": {
      "text/plain": [
       "668 x 10325 rating matrix of class 'realRatingMatrix' with 105339 ratings."
      ]
     },
     "metadata": {},
     "output_type": "display_data"
    }
   ],
   "source": [
    "#Convert rating matrix into a recommenderlab sparse matrix\n",
    "ratingMatrix <- as(ratingMatrix, \"realRatingMatrix\")\n",
    "ratingMatrix"
   ]
  },
  {
   "cell_type": "code",
   "execution_count": 14,
   "id": "df7cfbe1",
   "metadata": {},
   "outputs": [
    {
     "data": {
      "text/html": [
       "<style>\n",
       ".list-inline {list-style: none; margin:0; padding: 0}\n",
       ".list-inline>li {display: inline-block}\n",
       ".list-inline>li:not(:last-child)::after {content: \"\\00b7\"; padding: 0 .5ex}\n",
       "</style>\n",
       "<ol class=list-inline><li>'HYBRID_realRatingMatrix'</li><li>'ALS_realRatingMatrix'</li><li>'ALS_implicit_realRatingMatrix'</li><li>'IBCF_realRatingMatrix'</li><li>'LIBMF_realRatingMatrix'</li><li>'POPULAR_realRatingMatrix'</li><li>'RANDOM_realRatingMatrix'</li><li>'RERECOMMEND_realRatingMatrix'</li><li>'SVD_realRatingMatrix'</li><li>'SVDF_realRatingMatrix'</li><li>'UBCF_realRatingMatrix'</li></ol>\n"
      ],
      "text/latex": [
       "\\begin{enumerate*}\n",
       "\\item 'HYBRID\\_realRatingMatrix'\n",
       "\\item 'ALS\\_realRatingMatrix'\n",
       "\\item 'ALS\\_implicit\\_realRatingMatrix'\n",
       "\\item 'IBCF\\_realRatingMatrix'\n",
       "\\item 'LIBMF\\_realRatingMatrix'\n",
       "\\item 'POPULAR\\_realRatingMatrix'\n",
       "\\item 'RANDOM\\_realRatingMatrix'\n",
       "\\item 'RERECOMMEND\\_realRatingMatrix'\n",
       "\\item 'SVD\\_realRatingMatrix'\n",
       "\\item 'SVDF\\_realRatingMatrix'\n",
       "\\item 'UBCF\\_realRatingMatrix'\n",
       "\\end{enumerate*}\n"
      ],
      "text/markdown": [
       "1. 'HYBRID_realRatingMatrix'\n",
       "2. 'ALS_realRatingMatrix'\n",
       "3. 'ALS_implicit_realRatingMatrix'\n",
       "4. 'IBCF_realRatingMatrix'\n",
       "5. 'LIBMF_realRatingMatrix'\n",
       "6. 'POPULAR_realRatingMatrix'\n",
       "7. 'RANDOM_realRatingMatrix'\n",
       "8. 'RERECOMMEND_realRatingMatrix'\n",
       "9. 'SVD_realRatingMatrix'\n",
       "10. 'SVDF_realRatingMatrix'\n",
       "11. 'UBCF_realRatingMatrix'\n",
       "\n",
       "\n"
      ],
      "text/plain": [
       " [1] \"HYBRID_realRatingMatrix\"       \"ALS_realRatingMatrix\"         \n",
       " [3] \"ALS_implicit_realRatingMatrix\" \"IBCF_realRatingMatrix\"        \n",
       " [5] \"LIBMF_realRatingMatrix\"        \"POPULAR_realRatingMatrix\"     \n",
       " [7] \"RANDOM_realRatingMatrix\"       \"RERECOMMEND_realRatingMatrix\" \n",
       " [9] \"SVD_realRatingMatrix\"          \"SVDF_realRatingMatrix\"        \n",
       "[11] \"UBCF_realRatingMatrix\"        "
      ]
     },
     "metadata": {},
     "output_type": "display_data"
    },
    {
     "data": {
      "text/html": [
       "<dl>\n",
       "\t<dt>$HYBRID_realRatingMatrix</dt>\n",
       "\t\t<dd>'Hybrid recommender that aggegates several recommendation strategies using weighted averages.'</dd>\n",
       "\t<dt>$ALS_realRatingMatrix</dt>\n",
       "\t\t<dd>'Recommender for explicit ratings based on latent factors, calculated by alternating least squares algorithm.'</dd>\n",
       "\t<dt>$ALS_implicit_realRatingMatrix</dt>\n",
       "\t\t<dd>'Recommender for implicit data based on latent factors, calculated by alternating least squares algorithm.'</dd>\n",
       "\t<dt>$IBCF_realRatingMatrix</dt>\n",
       "\t\t<dd>'Recommender based on item-based collaborative filtering.'</dd>\n",
       "\t<dt>$LIBMF_realRatingMatrix</dt>\n",
       "\t\t<dd>'Matrix factorization with LIBMF via package recosystem (https://cran.r-project.org/web/packages/recosystem/vignettes/introduction.html).'</dd>\n",
       "\t<dt>$POPULAR_realRatingMatrix</dt>\n",
       "\t\t<dd>'Recommender based on item popularity.'</dd>\n",
       "\t<dt>$RANDOM_realRatingMatrix</dt>\n",
       "\t\t<dd>'Produce random recommendations (real ratings).'</dd>\n",
       "\t<dt>$RERECOMMEND_realRatingMatrix</dt>\n",
       "\t\t<dd>'Re-recommends highly rated items (real ratings).'</dd>\n",
       "\t<dt>$SVD_realRatingMatrix</dt>\n",
       "\t\t<dd>'Recommender based on SVD approximation with column-mean imputation.'</dd>\n",
       "\t<dt>$SVDF_realRatingMatrix</dt>\n",
       "\t\t<dd>'Recommender based on Funk SVD with gradient descend (https://sifter.org/~simon/journal/20061211.html).'</dd>\n",
       "\t<dt>$UBCF_realRatingMatrix</dt>\n",
       "\t\t<dd>'Recommender based on user-based collaborative filtering.'</dd>\n",
       "</dl>\n"
      ],
      "text/latex": [
       "\\begin{description}\n",
       "\\item[\\$HYBRID\\_realRatingMatrix] 'Hybrid recommender that aggegates several recommendation strategies using weighted averages.'\n",
       "\\item[\\$ALS\\_realRatingMatrix] 'Recommender for explicit ratings based on latent factors, calculated by alternating least squares algorithm.'\n",
       "\\item[\\$ALS\\_implicit\\_realRatingMatrix] 'Recommender for implicit data based on latent factors, calculated by alternating least squares algorithm.'\n",
       "\\item[\\$IBCF\\_realRatingMatrix] 'Recommender based on item-based collaborative filtering.'\n",
       "\\item[\\$LIBMF\\_realRatingMatrix] 'Matrix factorization with LIBMF via package recosystem (https://cran.r-project.org/web/packages/recosystem/vignettes/introduction.html).'\n",
       "\\item[\\$POPULAR\\_realRatingMatrix] 'Recommender based on item popularity.'\n",
       "\\item[\\$RANDOM\\_realRatingMatrix] 'Produce random recommendations (real ratings).'\n",
       "\\item[\\$RERECOMMEND\\_realRatingMatrix] 'Re-recommends highly rated items (real ratings).'\n",
       "\\item[\\$SVD\\_realRatingMatrix] 'Recommender based on SVD approximation with column-mean imputation.'\n",
       "\\item[\\$SVDF\\_realRatingMatrix] 'Recommender based on Funk SVD with gradient descend (https://sifter.org/\\textasciitilde{}simon/journal/20061211.html).'\n",
       "\\item[\\$UBCF\\_realRatingMatrix] 'Recommender based on user-based collaborative filtering.'\n",
       "\\end{description}\n"
      ],
      "text/markdown": [
       "$HYBRID_realRatingMatrix\n",
       ":   'Hybrid recommender that aggegates several recommendation strategies using weighted averages.'\n",
       "$ALS_realRatingMatrix\n",
       ":   'Recommender for explicit ratings based on latent factors, calculated by alternating least squares algorithm.'\n",
       "$ALS_implicit_realRatingMatrix\n",
       ":   'Recommender for implicit data based on latent factors, calculated by alternating least squares algorithm.'\n",
       "$IBCF_realRatingMatrix\n",
       ":   'Recommender based on item-based collaborative filtering.'\n",
       "$LIBMF_realRatingMatrix\n",
       ":   'Matrix factorization with LIBMF via package recosystem (https://cran.r-project.org/web/packages/recosystem/vignettes/introduction.html).'\n",
       "$POPULAR_realRatingMatrix\n",
       ":   'Recommender based on item popularity.'\n",
       "$RANDOM_realRatingMatrix\n",
       ":   'Produce random recommendations (real ratings).'\n",
       "$RERECOMMEND_realRatingMatrix\n",
       ":   'Re-recommends highly rated items (real ratings).'\n",
       "$SVD_realRatingMatrix\n",
       ":   'Recommender based on SVD approximation with column-mean imputation.'\n",
       "$SVDF_realRatingMatrix\n",
       ":   'Recommender based on Funk SVD with gradient descend (https://sifter.org/~simon/journal/20061211.html).'\n",
       "$UBCF_realRatingMatrix\n",
       ":   'Recommender based on user-based collaborative filtering.'\n",
       "\n",
       "\n"
      ],
      "text/plain": [
       "$HYBRID_realRatingMatrix\n",
       "[1] \"Hybrid recommender that aggegates several recommendation strategies using weighted averages.\"\n",
       "\n",
       "$ALS_realRatingMatrix\n",
       "[1] \"Recommender for explicit ratings based on latent factors, calculated by alternating least squares algorithm.\"\n",
       "\n",
       "$ALS_implicit_realRatingMatrix\n",
       "[1] \"Recommender for implicit data based on latent factors, calculated by alternating least squares algorithm.\"\n",
       "\n",
       "$IBCF_realRatingMatrix\n",
       "[1] \"Recommender based on item-based collaborative filtering.\"\n",
       "\n",
       "$LIBMF_realRatingMatrix\n",
       "[1] \"Matrix factorization with LIBMF via package recosystem (https://cran.r-project.org/web/packages/recosystem/vignettes/introduction.html).\"\n",
       "\n",
       "$POPULAR_realRatingMatrix\n",
       "[1] \"Recommender based on item popularity.\"\n",
       "\n",
       "$RANDOM_realRatingMatrix\n",
       "[1] \"Produce random recommendations (real ratings).\"\n",
       "\n",
       "$RERECOMMEND_realRatingMatrix\n",
       "[1] \"Re-recommends highly rated items (real ratings).\"\n",
       "\n",
       "$SVD_realRatingMatrix\n",
       "[1] \"Recommender based on SVD approximation with column-mean imputation.\"\n",
       "\n",
       "$SVDF_realRatingMatrix\n",
       "[1] \"Recommender based on Funk SVD with gradient descend (https://sifter.org/~simon/journal/20061211.html).\"\n",
       "\n",
       "$UBCF_realRatingMatrix\n",
       "[1] \"Recommender based on user-based collaborative filtering.\"\n"
      ]
     },
     "metadata": {},
     "output_type": "display_data"
    }
   ],
   "source": [
    "# Overview some important parameters for building recommendation systems for movies\n",
    "recommendation_model <- recommenderRegistry$get_entries(dataType = \"realRatingMatrix\")\n",
    "names(recommendation_model)\n",
    "lapply(recommendation_model, \"[[\", \"description\")"
   ]
  },
  {
   "cell_type": "code",
   "execution_count": 15,
   "id": "cd13be6e",
   "metadata": {},
   "outputs": [
    {
     "data": {
      "text/html": [
       "<dl>\n",
       "\t<dt>$k</dt>\n",
       "\t\t<dd>30</dd>\n",
       "\t<dt>$method</dt>\n",
       "\t\t<dd>'Cosine'</dd>\n",
       "\t<dt>$normalize</dt>\n",
       "\t\t<dd>'center'</dd>\n",
       "\t<dt>$normalize_sim_matrix</dt>\n",
       "\t\t<dd>FALSE</dd>\n",
       "\t<dt>$alpha</dt>\n",
       "\t\t<dd>0.5</dd>\n",
       "\t<dt>$na_as_zero</dt>\n",
       "\t\t<dd>FALSE</dd>\n",
       "</dl>\n"
      ],
      "text/latex": [
       "\\begin{description}\n",
       "\\item[\\$k] 30\n",
       "\\item[\\$method] 'Cosine'\n",
       "\\item[\\$normalize] 'center'\n",
       "\\item[\\$normalize\\_sim\\_matrix] FALSE\n",
       "\\item[\\$alpha] 0.5\n",
       "\\item[\\$na\\_as\\_zero] FALSE\n",
       "\\end{description}\n"
      ],
      "text/markdown": [
       "$k\n",
       ":   30\n",
       "$method\n",
       ":   'Cosine'\n",
       "$normalize\n",
       ":   'center'\n",
       "$normalize_sim_matrix\n",
       ":   FALSE\n",
       "$alpha\n",
       ":   0.5\n",
       "$na_as_zero\n",
       ":   FALSE\n",
       "\n",
       "\n"
      ],
      "text/plain": [
       "$k\n",
       "[1] 30\n",
       "\n",
       "$method\n",
       "[1] \"Cosine\"\n",
       "\n",
       "$normalize\n",
       "[1] \"center\"\n",
       "\n",
       "$normalize_sim_matrix\n",
       "[1] FALSE\n",
       "\n",
       "$alpha\n",
       "[1] 0.5\n",
       "\n",
       "$na_as_zero\n",
       "[1] FALSE\n"
      ]
     },
     "metadata": {},
     "output_type": "display_data"
    }
   ],
   "source": [
    "# Implementing a single model in the R project – Item Based Collaborative Filtering\n",
    "recommendation_model$IBCF_realRatingMatrix$parameters"
   ]
  },
  {
   "cell_type": "code",
   "execution_count": 16,
   "id": "37d07bed",
   "metadata": {},
   "outputs": [
    {
     "data": {
      "text/html": [
       "<table class=\"dataframe\">\n",
       "<caption>A matrix: 4 × 4 of type dbl</caption>\n",
       "<thead>\n",
       "\t<tr><th></th><th scope=col>1</th><th scope=col>2</th><th scope=col>3</th><th scope=col>4</th></tr>\n",
       "</thead>\n",
       "<tbody>\n",
       "\t<tr><th scope=row>1</th><td>0.0000000</td><td>0.9760860</td><td>0.9641723</td><td>0.9914398</td></tr>\n",
       "\t<tr><th scope=row>2</th><td>0.9760860</td><td>0.0000000</td><td>0.9925732</td><td>0.9374253</td></tr>\n",
       "\t<tr><th scope=row>3</th><td>0.9641723</td><td>0.9925732</td><td>0.0000000</td><td>0.9888968</td></tr>\n",
       "\t<tr><th scope=row>4</th><td>0.9914398</td><td>0.9374253</td><td>0.9888968</td><td>0.0000000</td></tr>\n",
       "</tbody>\n",
       "</table>\n"
      ],
      "text/latex": [
       "A matrix: 4 × 4 of type dbl\n",
       "\\begin{tabular}{r|llll}\n",
       "  & 1 & 2 & 3 & 4\\\\\n",
       "\\hline\n",
       "\t1 & 0.0000000 & 0.9760860 & 0.9641723 & 0.9914398\\\\\n",
       "\t2 & 0.9760860 & 0.0000000 & 0.9925732 & 0.9374253\\\\\n",
       "\t3 & 0.9641723 & 0.9925732 & 0.0000000 & 0.9888968\\\\\n",
       "\t4 & 0.9914398 & 0.9374253 & 0.9888968 & 0.0000000\\\\\n",
       "\\end{tabular}\n"
      ],
      "text/markdown": [
       "\n",
       "A matrix: 4 × 4 of type dbl\n",
       "\n",
       "| <!--/--> | 1 | 2 | 3 | 4 |\n",
       "|---|---|---|---|---|\n",
       "| 1 | 0.0000000 | 0.9760860 | 0.9641723 | 0.9914398 |\n",
       "| 2 | 0.9760860 | 0.0000000 | 0.9925732 | 0.9374253 |\n",
       "| 3 | 0.9641723 | 0.9925732 | 0.0000000 | 0.9888968 |\n",
       "| 4 | 0.9914398 | 0.9374253 | 0.9888968 | 0.0000000 |\n",
       "\n"
      ],
      "text/plain": [
       "  1         2         3         4        \n",
       "1 0.0000000 0.9760860 0.9641723 0.9914398\n",
       "2 0.9760860 0.0000000 0.9925732 0.9374253\n",
       "3 0.9641723 0.9925732 0.0000000 0.9888968\n",
       "4 0.9914398 0.9374253 0.9888968 0.0000000"
      ]
     },
     "metadata": {},
     "output_type": "display_data"
    },
    {
     "data": {
      "image/png": "[encoded data removed]",
      "text/plain": [
       "Plot with title \"User's Similarities\""
      ]
     },
     "metadata": {
      "image/png": {
       "height": 420,
       "width": 420
      }
     },
     "output_type": "display_data"
    }
   ],
   "source": [
    "# Collaborative Filtering involves suggesting movies to the users that are based on collecting preferences from many other users.\n",
    "# With the help of recommenderlab, we can compute similarities between users\n",
    "similarity_mat <- similarity(ratingMatrix[1:4, ],\n",
    "                             method = \"cosine\",\n",
    "                             which = \"users\")\n",
    "as.matrix(similarity_mat)\n",
    "image(as.matrix(similarity_mat), main = \"User's Similarities\")"
   ]
  },
  {
   "cell_type": "code",
   "execution_count": 17,
   "id": "dcffb909",
   "metadata": {},
   "outputs": [
    {
     "data": {
      "text/html": [
       "<table class=\"dataframe\">\n",
       "<caption>A matrix: 4 × 4 of type dbl</caption>\n",
       "<thead>\n",
       "\t<tr><th></th><th scope=col>1</th><th scope=col>2</th><th scope=col>3</th><th scope=col>4</th></tr>\n",
       "</thead>\n",
       "<tbody>\n",
       "\t<tr><th scope=row>1</th><td>0.0000000</td><td>0.9669732</td><td>0.9559341</td><td>0.9101276</td></tr>\n",
       "\t<tr><th scope=row>2</th><td>0.9669732</td><td>0.0000000</td><td>0.9658757</td><td>0.9412416</td></tr>\n",
       "\t<tr><th scope=row>3</th><td>0.9559341</td><td>0.9658757</td><td>0.0000000</td><td>0.9864877</td></tr>\n",
       "\t<tr><th scope=row>4</th><td>0.9101276</td><td>0.9412416</td><td>0.9864877</td><td>0.0000000</td></tr>\n",
       "</tbody>\n",
       "</table>\n"
      ],
      "text/latex": [
       "A matrix: 4 × 4 of type dbl\n",
       "\\begin{tabular}{r|llll}\n",
       "  & 1 & 2 & 3 & 4\\\\\n",
       "\\hline\n",
       "\t1 & 0.0000000 & 0.9669732 & 0.9559341 & 0.9101276\\\\\n",
       "\t2 & 0.9669732 & 0.0000000 & 0.9658757 & 0.9412416\\\\\n",
       "\t3 & 0.9559341 & 0.9658757 & 0.0000000 & 0.9864877\\\\\n",
       "\t4 & 0.9101276 & 0.9412416 & 0.9864877 & 0.0000000\\\\\n",
       "\\end{tabular}\n"
      ],
      "text/markdown": [
       "\n",
       "A matrix: 4 × 4 of type dbl\n",
       "\n",
       "| <!--/--> | 1 | 2 | 3 | 4 |\n",
       "|---|---|---|---|---|\n",
       "| 1 | 0.0000000 | 0.9669732 | 0.9559341 | 0.9101276 |\n",
       "| 2 | 0.9669732 | 0.0000000 | 0.9658757 | 0.9412416 |\n",
       "| 3 | 0.9559341 | 0.9658757 | 0.0000000 | 0.9864877 |\n",
       "| 4 | 0.9101276 | 0.9412416 | 0.9864877 | 0.0000000 |\n",
       "\n"
      ],
      "text/plain": [
       "  1         2         3         4        \n",
       "1 0.0000000 0.9669732 0.9559341 0.9101276\n",
       "2 0.9669732 0.0000000 0.9658757 0.9412416\n",
       "3 0.9559341 0.9658757 0.0000000 0.9864877\n",
       "4 0.9101276 0.9412416 0.9864877 0.0000000"
      ]
     },
     "metadata": {},
     "output_type": "display_data"
    },
    {
     "data": {
      "text/html": [
       "<style>\n",
       ".list-inline {list-style: none; margin:0; padding: 0}\n",
       ".list-inline>li {display: inline-block}\n",
       ".list-inline>li:not(:last-child)::after {content: \"\\00b7\"; padding: 0 .5ex}\n",
       "</style>\n",
       "<ol class=list-inline><li>0</li><li>5</li><li>4</li><li>3</li><li>4.5</li><li>1.5</li><li>2</li><li>3.5</li><li>1</li><li>2.5</li><li>0.5</li></ol>\n"
      ],
      "text/latex": [
       "\\begin{enumerate*}\n",
       "\\item 0\n",
       "\\item 5\n",
       "\\item 4\n",
       "\\item 3\n",
       "\\item 4.5\n",
       "\\item 1.5\n",
       "\\item 2\n",
       "\\item 3.5\n",
       "\\item 1\n",
       "\\item 2.5\n",
       "\\item 0.5\n",
       "\\end{enumerate*}\n"
      ],
      "text/markdown": [
       "1. 0\n",
       "2. 5\n",
       "3. 4\n",
       "4. 3\n",
       "5. 4.5\n",
       "6. 1.5\n",
       "7. 2\n",
       "8. 3.5\n",
       "9. 1\n",
       "10. 2.5\n",
       "11. 0.5\n",
       "\n",
       "\n"
      ],
      "text/plain": [
       " [1] 0.0 5.0 4.0 3.0 4.5 1.5 2.0 3.5 1.0 2.5 0.5"
      ]
     },
     "metadata": {},
     "output_type": "display_data"
    },
    {
     "data": {
      "text/plain": [
       "rating_values\n",
       "      0     0.5       1     1.5       2     2.5       3     3.5       4     4.5 \n",
       "6791761    1198    3258    1567    7943    5484   21729   12237   28880    8187 \n",
       "      5 \n",
       "  14856 "
      ]
     },
     "metadata": {},
     "output_type": "display_data"
    },
    {
     "data": {
      "image/png": "[encoded data removed]",
      "text/plain": [
       "Plot with title \"Movies similarity\""
      ]
     },
     "metadata": {
      "image/png": {
       "height": 420,
       "width": 420
      }
     },
     "output_type": "display_data"
    }
   ],
   "source": [
    "# Portray the similarity that is shared between the films\n",
    "movie_similarity <- similarity(ratingMatrix[, 1:4], method =\n",
    "                                 \"cosine\", which = \"items\")\n",
    "as.matrix(movie_similarity)\n",
    "image(as.matrix(movie_similarity), main = \"Movies similarity\")\n",
    "rating_values <- as.vector(ratingMatrix@data)\n",
    "unique(rating_values) # extracting unique ratings\n",
    "Table_of_Ratings <- table(rating_values) # creating a count of movie ratings\n",
    "Table_of_Ratings"
   ]
  },
  {
   "cell_type": "code",
   "execution_count": 18,
   "id": "4af21bd4",
   "metadata": {},
   "outputs": [
    {
     "data": {
      "text/html": [
       "<table class=\"dataframe\">\n",
       "<caption>A data.frame: 6 × 3</caption>\n",
       "<thead>\n",
       "\t<tr><th></th><th scope=col>movie</th><th scope=col>views</th><th scope=col>title</th></tr>\n",
       "\t<tr><th></th><th scope=col>&lt;chr&gt;</th><th scope=col>&lt;int&gt;</th><th scope=col>&lt;chr&gt;</th></tr>\n",
       "</thead>\n",
       "<tbody>\n",
       "\t<tr><th scope=row>296</th><td>296</td><td>325</td><td>Pulp Fiction (1994)                      </td></tr>\n",
       "\t<tr><th scope=row>356</th><td>356</td><td>311</td><td>Forrest Gump (1994)                      </td></tr>\n",
       "\t<tr><th scope=row>318</th><td>318</td><td>308</td><td>Shawshank Redemption, The (1994)         </td></tr>\n",
       "\t<tr><th scope=row>480</th><td>480</td><td>294</td><td>Jurassic Park (1993)                     </td></tr>\n",
       "\t<tr><th scope=row>593</th><td>593</td><td>290</td><td>Silence of the Lambs, The (1991)         </td></tr>\n",
       "\t<tr><th scope=row>260</th><td>260</td><td>273</td><td>Star Wars: Episode IV - A New Hope (1977)</td></tr>\n",
       "</tbody>\n",
       "</table>\n"
      ],
      "text/latex": [
       "A data.frame: 6 × 3\n",
       "\\begin{tabular}{r|lll}\n",
       "  & movie & views & title\\\\\n",
       "  & <chr> & <int> & <chr>\\\\\n",
       "\\hline\n",
       "\t296 & 296 & 325 & Pulp Fiction (1994)                      \\\\\n",
       "\t356 & 356 & 311 & Forrest Gump (1994)                      \\\\\n",
       "\t318 & 318 & 308 & Shawshank Redemption, The (1994)         \\\\\n",
       "\t480 & 480 & 294 & Jurassic Park (1993)                     \\\\\n",
       "\t593 & 593 & 290 & Silence of the Lambs, The (1991)         \\\\\n",
       "\t260 & 260 & 273 & Star Wars: Episode IV - A New Hope (1977)\\\\\n",
       "\\end{tabular}\n"
      ],
      "text/markdown": [
       "\n",
       "A data.frame: 6 × 3\n",
       "\n",
       "| <!--/--> | movie &lt;chr&gt; | views &lt;int&gt; | title &lt;chr&gt; |\n",
       "|---|---|---|---|\n",
       "| 296 | 296 | 325 | Pulp Fiction (1994)                       |\n",
       "| 356 | 356 | 311 | Forrest Gump (1994)                       |\n",
       "| 318 | 318 | 308 | Shawshank Redemption, The (1994)          |\n",
       "| 480 | 480 | 294 | Jurassic Park (1993)                      |\n",
       "| 593 | 593 | 290 | Silence of the Lambs, The (1991)          |\n",
       "| 260 | 260 | 273 | Star Wars: Episode IV - A New Hope (1977) |\n",
       "\n"
      ],
      "text/plain": [
       "    movie views title                                    \n",
       "296 296   325   Pulp Fiction (1994)                      \n",
       "356 356   311   Forrest Gump (1994)                      \n",
       "318 318   308   Shawshank Redemption, The (1994)         \n",
       "480 480   294   Jurassic Park (1993)                     \n",
       "593 593   290   Silence of the Lambs, The (1991)         \n",
       "260 260   273   Star Wars: Episode IV - A New Hope (1977)"
      ]
     },
     "metadata": {},
     "output_type": "display_data"
    }
   ],
   "source": [
    "# Most viewed movies visualization\n",
    "library(ggplot2)\n",
    "movie_views <- colCounts(ratingMatrix) # count views for each movie\n",
    "table_views <- data.frame(movie = names(movie_views),\n",
    "                          views = movie_views) # create dataframe of views\n",
    "table_views <- table_views[order(table_views$views,\n",
    "                                 decreasing = TRUE), ] # sort by number of views\n",
    "table_views$title <- NA\n",
    "for (index in 1:10325){\n",
    "  table_views[index,3] <- as.character(subset(movie_data,\n",
    "                                              movie_data$movieId == table_views[index,1])$title)\n",
    "}\n",
    "table_views[1:6,]"
   ]
  },
  {
   "cell_type": "code",
   "execution_count": 19,
   "id": "68559d51",
   "metadata": {},
   "outputs": [
    {
     "data": {
      "image/png": "[encoded data removed]",
      "text/plain": [
       "plot without title"
      ]
     },
     "metadata": {
      "image/png": {
       "height": 420,
       "width": 420
      }
     },
     "output_type": "display_data"
    }
   ],
   "source": [
    "# Visualize a bar plot for the total number of views of the top films\n",
    "ggplot(table_views[1:6, ], aes(x = title, y = views)) +\n",
    "  geom_bar(stat=\"identity\", fill = 'steelblue') +\n",
    "  geom_text(aes(label=views), vjust=-0.3, size=3.5) +\n",
    "  theme(axis.text.x = element_text(angle = 45, hjust = 1)) +\n",
    "  ggtitle(\"Total Views of the Top Films\")"
   ]
  },
  {
   "cell_type": "code",
   "execution_count": 20,
   "id": "d6b03dd7",
   "metadata": {},
   "outputs": [
    {
     "data": {
      "image/png": "[encoded data removed]",
      "text/plain": [
       "plot without title"
      ]
     },
     "metadata": {
      "image/png": {
       "height": 420,
       "width": 420
      }
     },
     "output_type": "display_data"
    }
   ],
   "source": [
    "# Heatmap of Movie Ratings\n",
    "# Visualize a heatmap of the movie ratings\n",
    "image(ratingMatrix[1:20, 1:25], axes = FALSE, main = \"Heatmap of the first 25 rows and 25 columns\")"
   ]
  },
  {
   "cell_type": "code",
   "execution_count": 21,
   "id": "9f330cf9",
   "metadata": {},
   "outputs": [
    {
     "data": {
      "text/plain": [
       "420 x 447 rating matrix of class 'realRatingMatrix' with 38341 ratings."
      ]
     },
     "metadata": {},
     "output_type": "display_data"
    }
   ],
   "source": [
    "# Data Preparation\n",
    "movie_ratings <- ratingMatrix[rowCounts(ratingMatrix) > 50,\n",
    "                              colCounts(ratingMatrix) > 50]\n",
    "movie_ratings"
   ]
  },
  {
   "cell_type": "code",
   "execution_count": 22,
   "id": "976dc081",
   "metadata": {},
   "outputs": [
    {
     "data": {
      "image/png": "[encoded data removed]",
      "text/plain": [
       "plot without title"
      ]
     },
     "metadata": {
      "image/png": {
       "height": 420,
       "width": 420
      }
     },
     "output_type": "display_data"
    }
   ],
   "source": [
    "# describing matrix of relevant users\n",
    "minimum_movies<- quantile(rowCounts(movie_ratings), 0.98)\n",
    "minimum_users <- quantile(colCounts(movie_ratings), 0.98)\n",
    "image(movie_ratings[rowCounts(movie_ratings) > minimum_movies,\n",
    "                    colCounts(movie_ratings) > minimum_users],\n",
    "      main = \"Heatmap of the top users and movies\")"
   ]
  },
  {
   "cell_type": "code",
   "execution_count": 23,
   "id": "f59b9350",
   "metadata": {},
   "outputs": [
    {
     "name": "stderr",
     "output_type": "stream",
     "text": [
      "`stat_bin()` using `bins = 30`. Pick better value with `binwidth`.\n",
      "\n"
     ]
    },
    {
     "data": {
      "image/png": "[encoded data removed]",
      "text/plain": [
       "plot without title"
      ]
     },
     "metadata": {
      "image/png": {
       "height": 420,
       "width": 420
      }
     },
     "output_type": "display_data"
    }
   ],
   "source": [
    "# Visualizing the distribution of the average ratings per user\n",
    "average_ratings <- rowMeans(movie_ratings)\n",
    "qplot(average_ratings, fill=I(\"steelblue\"), col=I(\"red\")) +\n",
    "  ggtitle(\"Distribution of the average rating per user\")"
   ]
  },
  {
   "cell_type": "code",
   "execution_count": 24,
   "id": "bcb186e7",
   "metadata": {},
   "outputs": [
    {
     "data": {
      "text/html": [
       "0"
      ],
      "text/latex": [
       "0"
      ],
      "text/markdown": [
       "0"
      ],
      "text/plain": [
       "[1] 0"
      ]
     },
     "metadata": {},
     "output_type": "display_data"
    },
    {
     "data": {
      "image/png": "[encoded data removed]",
      "text/plain": [
       "plot without title"
      ]
     },
     "metadata": {
      "image/png": {
       "height": 420,
       "width": 420
      }
     },
     "output_type": "display_data"
    }
   ],
   "source": [
    "# Data Normalization\n",
    "normalized_ratings <- normalize(movie_ratings)\n",
    "sum(rowMeans(normalized_ratings) > 0.00001)\n",
    "image(normalized_ratings[rowCounts(normalized_ratings) > minimum_movies,\n",
    "                         colCounts(normalized_ratings) > minimum_users],\n",
    "      main = \"Normalized Ratings of the Top Users\")"
   ]
  },
  {
   "cell_type": "code",
   "execution_count": 25,
   "id": "45b61737",
   "metadata": {},
   "outputs": [],
   "source": [
    "# Data Binarization\n",
    "binary_minimum_movies <- quantile(rowCounts(movie_ratings), 0.95)\n",
    "binary_minimum_users <- quantile(colCounts(movie_ratings), 0.95)"
   ]
  },
  {
   "cell_type": "code",
   "execution_count": 26,
   "id": "ee1b574f",
   "metadata": {},
   "outputs": [
    {
     "data": {
      "image/png": "[encoded data removed]",
      "text/plain": [
       "plot without title"
      ]
     },
     "metadata": {
      "image/png": {
       "height": 420,
       "width": 420
      }
     },
     "output_type": "display_data"
    }
   ],
   "source": [
    "#movies_watched <- binarize(movie_ratings, minRating = 1)\n",
    "good_rated_films <- binarize(movie_ratings, minRating = 3)\n",
    "image(good_rated_films[rowCounts(movie_ratings) > binary_minimum_movies,\n",
    "                       colCounts(movie_ratings) > binary_minimum_users],\n",
    "      main = \"Heatmap of the top users and movies\")"
   ]
  },
  {
   "cell_type": "code",
   "execution_count": 27,
   "id": "5d85ff1f",
   "metadata": {},
   "outputs": [],
   "source": [
    "# Collaborative Filtering System\n",
    "# Splitting the dataset into 80% training set and 20% test set\n",
    "sampled_data<- sample(x = c(TRUE, FALSE),\n",
    "                      size = nrow(movie_ratings),\n",
    "                      replace = TRUE,\n",
    "                      prob = c(0.8, 0.2))\n",
    "training_data <- movie_ratings[sampled_data, ]\n",
    "testing_data <- movie_ratings[!sampled_data, ]"
   ]
  },
  {
   "cell_type": "code",
   "execution_count": 28,
   "id": "2dd230dc",
   "metadata": {},
   "outputs": [
    {
     "data": {
      "text/html": [
       "<dl>\n",
       "\t<dt>$k</dt>\n",
       "\t\t<dd>30</dd>\n",
       "\t<dt>$method</dt>\n",
       "\t\t<dd>'Cosine'</dd>\n",
       "\t<dt>$normalize</dt>\n",
       "\t\t<dd>'center'</dd>\n",
       "\t<dt>$normalize_sim_matrix</dt>\n",
       "\t\t<dd>FALSE</dd>\n",
       "\t<dt>$alpha</dt>\n",
       "\t\t<dd>0.5</dd>\n",
       "\t<dt>$na_as_zero</dt>\n",
       "\t\t<dd>FALSE</dd>\n",
       "</dl>\n"
      ],
      "text/latex": [
       "\\begin{description}\n",
       "\\item[\\$k] 30\n",
       "\\item[\\$method] 'Cosine'\n",
       "\\item[\\$normalize] 'center'\n",
       "\\item[\\$normalize\\_sim\\_matrix] FALSE\n",
       "\\item[\\$alpha] 0.5\n",
       "\\item[\\$na\\_as\\_zero] FALSE\n",
       "\\end{description}\n"
      ],
      "text/markdown": [
       "$k\n",
       ":   30\n",
       "$method\n",
       ":   'Cosine'\n",
       "$normalize\n",
       ":   'center'\n",
       "$normalize_sim_matrix\n",
       ":   FALSE\n",
       "$alpha\n",
       ":   0.5\n",
       "$na_as_zero\n",
       ":   FALSE\n",
       "\n",
       "\n"
      ],
      "text/plain": [
       "$k\n",
       "[1] 30\n",
       "\n",
       "$method\n",
       "[1] \"Cosine\"\n",
       "\n",
       "$normalize\n",
       "[1] \"center\"\n",
       "\n",
       "$normalize_sim_matrix\n",
       "[1] FALSE\n",
       "\n",
       "$alpha\n",
       "[1] 0.5\n",
       "\n",
       "$na_as_zero\n",
       "[1] FALSE\n"
      ]
     },
     "metadata": {},
     "output_type": "display_data"
    },
    {
     "data": {
      "text/plain": [
       "Recommender of type 'IBCF' for 'realRatingMatrix' \n",
       "learned using 341 users."
      ]
     },
     "metadata": {},
     "output_type": "display_data"
    },
    {
     "data": {
      "text/html": [
       "'Recommender'"
      ],
      "text/latex": [
       "'Recommender'"
      ],
      "text/markdown": [
       "'Recommender'"
      ],
      "text/plain": [
       "[1] \"Recommender\"\n",
       "attr(,\"package\")\n",
       "[1] \"recommenderlab\""
      ]
     },
     "metadata": {},
     "output_type": "display_data"
    }
   ],
   "source": [
    "# Building the Recommendation System\n",
    "recommendation_system <- recommenderRegistry$get_entries(dataType =\"realRatingMatrix\")\n",
    "recommendation_system$IBCF_realRatingMatrix$parameters\n",
    "recommen_model <- Recommender(data = training_data,\n",
    "                              method = \"IBCF\",\n",
    "                              parameter = list(k = 30))\n",
    "recommen_model\n",
    "class(recommen_model)"
   ]
  },
  {
   "cell_type": "code",
   "execution_count": 29,
   "id": "769b9d64",
   "metadata": {},
   "outputs": [
    {
     "data": {
      "text/html": [
       "'dgCMatrix'"
      ],
      "text/latex": [
       "'dgCMatrix'"
      ],
      "text/markdown": [
       "'dgCMatrix'"
      ],
      "text/plain": [
       "[1] \"dgCMatrix\"\n",
       "attr(,\"package\")\n",
       "[1] \"Matrix\""
      ]
     },
     "metadata": {},
     "output_type": "display_data"
    },
    {
     "data": {
      "text/html": [
       "<style>\n",
       ".list-inline {list-style: none; margin:0; padding: 0}\n",
       ".list-inline>li {display: inline-block}\n",
       ".list-inline>li:not(:last-child)::after {content: \"\\00b7\"; padding: 0 .5ex}\n",
       "</style>\n",
       "<ol class=list-inline><li>447</li><li>447</li></ol>\n"
      ],
      "text/latex": [
       "\\begin{enumerate*}\n",
       "\\item 447\n",
       "\\item 447\n",
       "\\end{enumerate*}\n"
      ],
      "text/markdown": [
       "1. 447\n",
       "2. 447\n",
       "\n",
       "\n"
      ],
      "text/plain": [
       "[1] 447 447"
      ]
     },
     "metadata": {},
     "output_type": "display_data"
    },
    {
     "data": {
      "image/png": "[encoded data removed]",
      "text/plain": [
       "plot without title"
      ]
     },
     "metadata": {
      "image/png": {
       "height": 420,
       "width": 420
      }
     },
     "output_type": "display_data"
    }
   ],
   "source": [
    "# Exploring the data science recommendation system model\n",
    "model_info <- getModel(recommen_model)\n",
    "class(model_info$sim)\n",
    "dim(model_info$sim)\n",
    "top_items <- 20\n",
    "image(model_info$sim[1:top_items, 1:top_items],\n",
    "      main = \"Heatmap of the first rows and columns\")"
   ]
  },
  {
   "cell_type": "code",
   "execution_count": 30,
   "id": "a9c1fc9f",
   "metadata": {},
   "outputs": [
    {
     "data": {
      "text/plain": [
       "sum_rows\n",
       " 30 \n",
       "447 "
      ]
     },
     "metadata": {},
     "output_type": "display_data"
    },
    {
     "name": "stderr",
     "output_type": "stream",
     "text": [
      "`stat_bin()` using `bins = 30`. Pick better value with `binwidth`.\n",
      "\n"
     ]
    },
    {
     "data": {
      "image/png": "[encoded data removed]",
      "text/plain": [
       "plot without title"
      ]
     },
     "metadata": {
      "image/png": {
       "height": 420,
       "width": 420
      }
     },
     "output_type": "display_data"
    }
   ],
   "source": [
    "# Visualize sum of rows and columns with the similarity of the objects above 0\n",
    "sum_rows <- rowSums(model_info$sim > 0)\n",
    "table(sum_rows)\n",
    "sum_cols <- colSums(model_info$sim > 0)\n",
    "qplot(sum_cols, fill=I(\"steelblue\"), col=I(\"red\"))+ ggtitle(\"Distribution of the column count\")"
   ]
  },
  {
   "cell_type": "code",
   "execution_count": 31,
   "id": "bda47d2a",
   "metadata": {},
   "outputs": [
    {
     "data": {
      "text/plain": [
       "Recommendations as 'topNList' with n = 10 for 79 users. "
      ]
     },
     "metadata": {},
     "output_type": "display_data"
    }
   ],
   "source": [
    "# the number of items to recommend to each user\n",
    "top_recommendations <- 10 \n",
    "predicted_recommendations <- predict(object = recommen_model,\n",
    "                                     newdata = testing_data,\n",
    "                                     n = top_recommendations)\n",
    "predicted_recommendations"
   ]
  },
  {
   "cell_type": "code",
   "execution_count": 32,
   "id": "53aafbc3",
   "metadata": {},
   "outputs": [
    {
     "data": {
      "text/html": [
       "<style>\n",
       ".list-inline {list-style: none; margin:0; padding: 0}\n",
       ".list-inline>li {display: inline-block}\n",
       ".list-inline>li:not(:last-child)::after {content: \"\\00b7\"; padding: 0 .5ex}\n",
       "</style>\n",
       "<ol class=list-inline><li>'Fifth Element, The (1997)'</li><li>'M*A*S*H (a.k.a. MASH) (1970)'</li><li>'2001: A Space Odyssey (1968)'</li><li>'Wizard of Oz, The (1939)'</li><li>'Big Lebowski, The (1998)'</li><li>'Nightmare Before Christmas, The (1993)'</li><li>'Slumdog Millionaire (2008)'</li><li>'Dr. Strangelove or: How I Learned to Stop Worrying and Love the Bomb (1964)'</li><li>'Rear Window (1954)'</li><li>'Amadeus (1984)'</li></ol>\n"
      ],
      "text/latex": [
       "\\begin{enumerate*}\n",
       "\\item 'Fifth Element, The (1997)'\n",
       "\\item 'M*A*S*H (a.k.a. MASH) (1970)'\n",
       "\\item '2001: A Space Odyssey (1968)'\n",
       "\\item 'Wizard of Oz, The (1939)'\n",
       "\\item 'Big Lebowski, The (1998)'\n",
       "\\item 'Nightmare Before Christmas, The (1993)'\n",
       "\\item 'Slumdog Millionaire (2008)'\n",
       "\\item 'Dr. Strangelove or: How I Learned to Stop Worrying and Love the Bomb (1964)'\n",
       "\\item 'Rear Window (1954)'\n",
       "\\item 'Amadeus (1984)'\n",
       "\\end{enumerate*}\n"
      ],
      "text/markdown": [
       "1. 'Fifth Element, The (1997)'\n",
       "2. 'M*A*S*H (a.k.a. MASH) (1970)'\n",
       "3. '2001: A Space Odyssey (1968)'\n",
       "4. 'Wizard of Oz, The (1939)'\n",
       "5. 'Big Lebowski, The (1998)'\n",
       "6. 'Nightmare Before Christmas, The (1993)'\n",
       "7. 'Slumdog Millionaire (2008)'\n",
       "8. 'Dr. Strangelove or: How I Learned to Stop Worrying and Love the Bomb (1964)'\n",
       "9. 'Rear Window (1954)'\n",
       "10. 'Amadeus (1984)'\n",
       "\n",
       "\n"
      ],
      "text/plain": [
       " [1] \"Fifth Element, The (1997)\"                                                  \n",
       " [2] \"M*A*S*H (a.k.a. MASH) (1970)\"                                               \n",
       " [3] \"2001: A Space Odyssey (1968)\"                                               \n",
       " [4] \"Wizard of Oz, The (1939)\"                                                   \n",
       " [5] \"Big Lebowski, The (1998)\"                                                   \n",
       " [6] \"Nightmare Before Christmas, The (1993)\"                                     \n",
       " [7] \"Slumdog Millionaire (2008)\"                                                 \n",
       " [8] \"Dr. Strangelove or: How I Learned to Stop Worrying and Love the Bomb (1964)\"\n",
       " [9] \"Rear Window (1954)\"                                                         \n",
       "[10] \"Amadeus (1984)\"                                                             "
      ]
     },
     "metadata": {},
     "output_type": "display_data"
    }
   ],
   "source": [
    "# recommendation for the first user\n",
    "user1 <- predicted_recommendations@items[[1]] \n",
    "movies_user1 <- predicted_recommendations@itemLabels[user1]\n",
    "movies_user2 <- movies_user1\n",
    "for (index in 1:10){\n",
    "  movies_user2[index] <- as.character(subset(movie_data,\n",
    "                                             movie_data$movieId == movies_user1[index])$title)\n",
    "}\n",
    "movies_user2"
   ]
  },
  {
   "cell_type": "code",
   "execution_count": 33,
   "id": "9d40ce44",
   "metadata": {},
   "outputs": [],
   "source": [
    "# matrix with the recommendations for each user\n",
    "recommendation_matrix <- sapply(predicted_recommendations@items,\n",
    "                                function(x){ as.integer(colnames(movie_ratings)[x]) }) "
   ]
  },
  {
   "cell_type": "code",
   "execution_count": 34,
   "id": "1e01e28a",
   "metadata": {},
   "outputs": [
    {
     "data": {
      "text/html": [
       "<table class=\"dataframe\">\n",
       "<caption>A matrix: 10 × 4 of type int</caption>\n",
       "<tbody>\n",
       "\t<tr><td> 1527</td><td> 541</td><td> 356</td><td>2078</td></tr>\n",
       "\t<tr><td> 5060</td><td> 802</td><td> 457</td><td>2700</td></tr>\n",
       "\t<tr><td>  924</td><td> 904</td><td> 595</td><td>2028</td></tr>\n",
       "\t<tr><td>  919</td><td> 908</td><td>1500</td><td>1262</td></tr>\n",
       "\t<tr><td> 1732</td><td> 912</td><td>1704</td><td>3175</td></tr>\n",
       "\t<tr><td>  551</td><td>1079</td><td>5418</td><td> 919</td></tr>\n",
       "\t<tr><td>63082</td><td>1089</td><td> 161</td><td>3418</td></tr>\n",
       "\t<tr><td>  750</td><td>1094</td><td> 364</td><td>2529</td></tr>\n",
       "\t<tr><td>  904</td><td>1136</td><td>3081</td><td>3114</td></tr>\n",
       "\t<tr><td> 1225</td><td>1148</td><td>1729</td><td> 589</td></tr>\n",
       "</tbody>\n",
       "</table>\n"
      ],
      "text/latex": [
       "A matrix: 10 × 4 of type int\n",
       "\\begin{tabular}{llll}\n",
       "\t  1527 &  541 &  356 & 2078\\\\\n",
       "\t  5060 &  802 &  457 & 2700\\\\\n",
       "\t   924 &  904 &  595 & 2028\\\\\n",
       "\t   919 &  908 & 1500 & 1262\\\\\n",
       "\t  1732 &  912 & 1704 & 3175\\\\\n",
       "\t   551 & 1079 & 5418 &  919\\\\\n",
       "\t 63082 & 1089 &  161 & 3418\\\\\n",
       "\t   750 & 1094 &  364 & 2529\\\\\n",
       "\t   904 & 1136 & 3081 & 3114\\\\\n",
       "\t  1225 & 1148 & 1729 &  589\\\\\n",
       "\\end{tabular}\n"
      ],
      "text/markdown": [
       "\n",
       "A matrix: 10 × 4 of type int\n",
       "\n",
       "|  1527 |  541 |  356 | 2078 |\n",
       "|  5060 |  802 |  457 | 2700 |\n",
       "|   924 |  904 |  595 | 2028 |\n",
       "|   919 |  908 | 1500 | 1262 |\n",
       "|  1732 |  912 | 1704 | 3175 |\n",
       "|   551 | 1079 | 5418 |  919 |\n",
       "| 63082 | 1089 |  161 | 3418 |\n",
       "|   750 | 1094 |  364 | 2529 |\n",
       "|   904 | 1136 | 3081 | 3114 |\n",
       "|  1225 | 1148 | 1729 |  589 |\n",
       "\n"
      ],
      "text/plain": [
       "      [,1]  [,2] [,3] [,4]\n",
       " [1,]  1527  541  356 2078\n",
       " [2,]  5060  802  457 2700\n",
       " [3,]   924  904  595 2028\n",
       " [4,]   919  908 1500 1262\n",
       " [5,]  1732  912 1704 3175\n",
       " [6,]   551 1079 5418  919\n",
       " [7,] 63082 1089  161 3418\n",
       " [8,]   750 1094  364 2529\n",
       " [9,]   904 1136 3081 3114\n",
       "[10,]  1225 1148 1729  589"
      ]
     },
     "metadata": {},
     "output_type": "display_data"
    }
   ],
   "source": [
    "#dim(recc_matrix)\n",
    "recommendation_matrix[,1:4]"
   ]
  },
  {
   "cell_type": "code",
   "execution_count": 35,
   "id": "2bfa5c05",
   "metadata": {},
   "outputs": [
    {
     "data": {
      "text/html": [
       "<table class=\"dataframe\">\n",
       "<caption>A data.frame: 4 × 2</caption>\n",
       "<thead>\n",
       "\t<tr><th></th><th scope=col>Movie Title</th><th scope=col>No. of Items</th></tr>\n",
       "\t<tr><th></th><th scope=col>&lt;chr&gt;</th><th scope=col>&lt;fct&gt;</th></tr>\n",
       "</thead>\n",
       "<tbody>\n",
       "\t<tr><th scope=row>235</th><td>Ed Wood (1994)                        </td><td>11</td></tr>\n",
       "\t<tr><th scope=row>904</th><td>Rear Window (1954)                    </td><td>10</td></tr>\n",
       "\t<tr><th scope=row>6</th><td>Heat (1995)                           </td><td>9 </td></tr>\n",
       "\t<tr><th scope=row>745</th><td>Wallace &amp; Gromit: A Close Shave (1995)</td><td>9 </td></tr>\n",
       "</tbody>\n",
       "</table>\n"
      ],
      "text/latex": [
       "A data.frame: 4 × 2\n",
       "\\begin{tabular}{r|ll}\n",
       "  & Movie Title & No. of Items\\\\\n",
       "  & <chr> & <fct>\\\\\n",
       "\\hline\n",
       "\t235 & Ed Wood (1994)                         & 11\\\\\n",
       "\t904 & Rear Window (1954)                     & 10\\\\\n",
       "\t6 & Heat (1995)                            & 9 \\\\\n",
       "\t745 & Wallace \\& Gromit: A Close Shave (1995) & 9 \\\\\n",
       "\\end{tabular}\n"
      ],
      "text/markdown": [
       "\n",
       "A data.frame: 4 × 2\n",
       "\n",
       "| <!--/--> | Movie Title &lt;chr&gt; | No. of Items &lt;fct&gt; |\n",
       "|---|---|---|\n",
       "| 235 | Ed Wood (1994)                         | 11 |\n",
       "| 904 | Rear Window (1954)                     | 10 |\n",
       "| 6 | Heat (1995)                            | 9  |\n",
       "| 745 | Wallace &amp; Gromit: A Close Shave (1995) | 9  |\n",
       "\n"
      ],
      "text/plain": [
       "    Movie Title                            No. of Items\n",
       "235 Ed Wood (1994)                         11          \n",
       "904 Rear Window (1954)                     10          \n",
       "6   Heat (1995)                            9           \n",
       "745 Wallace & Gromit: A Close Shave (1995) 9           "
      ]
     },
     "metadata": {},
     "output_type": "display_data"
    },
    {
     "data": {
      "image/png": "[encoded data removed]",
      "text/plain": [
       "plot without title"
      ]
     },
     "metadata": {
      "image/png": {
       "height": 420,
       "width": 420
      }
     },
     "output_type": "display_data"
    }
   ],
   "source": [
    "# Distribution of the Number of Items for IBCF\n",
    "number_of_items <- factor(table(recommendation_matrix))\n",
    "chart_title <- \"Distribution of the Number of Items for IBCF\"\n",
    "qplot(number_of_items, fill=I(\"steelblue\"), col=I(\"red\")) + ggtitle(chart_title)\n",
    "\n",
    "number_of_items_sorted <- sort(number_of_items, decreasing = TRUE)\n",
    "number_of_items_top <- head(number_of_items_sorted, n = 4)\n",
    "table_top <- data.frame(as.integer(names(number_of_items_top)),\n",
    "                        number_of_items_top)\n",
    "for(i in 1:4) {\n",
    "  table_top[i,1] <- as.character(subset(movie_data,\n",
    "                                        movie_data$movieId == table_top[i,1])$title)\n",
    "}\n",
    "\n",
    "colnames(table_top) <- c(\"Movie Title\", \"No. of Items\")\n",
    "head(table_top)"
   ]
  },
  {
   "cell_type": "code",
   "execution_count": null,
   "id": "aad89c6e",
   "metadata": {},
   "outputs": [],
   "source": []
  }
 ],
 "metadata": {
  "kernelspec": {
   "display_name": "R",
   "language": "R",
   "name": "ir"
  },
  "language_info": {
   "codemirror_mode": "r",
   "file_extension": ".r",
   "mimetype": "text/x-r-source",
   "name": "R",
   "pygments_lexer": "r",
   "version": "4.2.0"
  }
 },
 "nbformat": 4,
 "nbformat_minor": 5
}
